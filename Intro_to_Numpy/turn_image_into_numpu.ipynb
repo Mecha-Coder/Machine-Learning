{
 "cells": [
  {
   "cell_type": "code",
   "execution_count": 9,
   "id": "392626d7",
   "metadata": {},
   "outputs": [
    {
     "name": "stdout",
     "output_type": "stream",
     "text": [
      "Data Type uint8\n",
      "Type <class 'numpy.ndarray'>\n",
      "Shape (720, 1280, 3)\n",
      "Size 2764800\n",
      "Dimension 3\n"
     ]
    },
    {
     "data": {
      "text/plain": [
       "array([[[177,  73, 162],\n",
       "        [177,  73, 162],\n",
       "        [177,  73, 162],\n",
       "        ...,\n",
       "        [187, 165, 201],\n",
       "        [187, 165, 201],\n",
       "        [187, 165, 201]],\n",
       "\n",
       "       [[177,  73, 162],\n",
       "        [177,  73, 162],\n",
       "        [177,  73, 162],\n",
       "        ...,\n",
       "        [187, 165, 201],\n",
       "        [187, 165, 201],\n",
       "        [187, 165, 201]],\n",
       "\n",
       "       [[177,  73, 160],\n",
       "        [177,  73, 160],\n",
       "        [177,  73, 160],\n",
       "        ...,\n",
       "        [185, 163, 199],\n",
       "        [185, 163, 199],\n",
       "        [185, 163, 199]],\n",
       "\n",
       "       ...,\n",
       "\n",
       "       [[180,  91,  23],\n",
       "        [180,  91,  23],\n",
       "        [180,  91,  23],\n",
       "        ...,\n",
       "        [183, 135, 123],\n",
       "        [183, 135, 125],\n",
       "        [183, 135, 125]],\n",
       "\n",
       "       [[180,  91,  23],\n",
       "        [180,  91,  23],\n",
       "        [180,  91,  23],\n",
       "        ...,\n",
       "        [183, 135, 125],\n",
       "        [183, 135, 125],\n",
       "        [183, 135, 125]],\n",
       "\n",
       "       [[180,  91,  23],\n",
       "        [180,  91,  23],\n",
       "        [180,  91,  23],\n",
       "        ...,\n",
       "        [183, 135, 125],\n",
       "        [183, 135, 125],\n",
       "        [183, 135, 125]]], shape=(720, 1280, 3), dtype=uint8)"
      ]
     },
     "execution_count": 9,
     "metadata": {},
     "output_type": "execute_result"
    }
   ],
   "source": [
    "from matplotlib.image import imread\n",
    "\n",
    "img = imread(\"sample_image.jpg\")\n",
    "print(\"Data Type\", img.dtype)\n",
    "print(\"Type\", type(img))\n",
    "print(\"Shape\", img.shape)\n",
    "print(\"Size\", img.size)\n",
    "print(\"Dimension\", img.ndim)\n",
    "img"
   ]
  }
 ],
 "metadata": {
  "kernelspec": {
   "display_name": "Python 3",
   "language": "python",
   "name": "python3"
  },
  "language_info": {
   "codemirror_mode": {
    "name": "ipython",
    "version": 3
   },
   "file_extension": ".py",
   "mimetype": "text/x-python",
   "name": "python",
   "nbconvert_exporter": "python",
   "pygments_lexer": "ipython3",
   "version": "3.11.13"
  }
 },
 "nbformat": 4,
 "nbformat_minor": 5
}
